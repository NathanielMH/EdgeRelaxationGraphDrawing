{
 "cells": [
  {
   "cell_type": "code",
   "execution_count": 1,
   "metadata": {},
   "outputs": [
    {
     "name": "stdout",
     "output_type": "stream",
     "text": [
      "No cython detected.  Install cython and compile the fa2util module for a 10-100x speed boost.\n"
     ]
    }
   ],
   "source": [
    "from forceatlas2 import ForceAtlas2\n",
    "import networkx as nx\n",
    "import pandas as pd\n",
    "import glob\n",
    "import os, sys\n",
    "module_path = os.path.abspath(os.path.join('..'))\n",
    "if module_path not in sys.path:\n",
    "    sys.path.append(module_path)\n",
    "\n",
    "import numpy as np\n",
    "import networkx as nx\n",
    "import matplotlib.pyplot as plt\n",
    "from tqdm import tqdm\n",
    "\n",
    "\n",
    "from src.graph_dataset import GraphDataset\n",
    "from src.graph_parser import parseGraphmlFile\n",
    "from src.graph_utils import stress, total_stress, num_crossings, mean_edge_length, nodes_dict_to_array, distance_matrix\n",
    "from src.graph_utils import gradient_kamada_kawai, max_neighbour_degrees_norm, sum_neighbour_degrees_norm, expansion_factor_norm, edge_crossings_norm\n",
    "from src.graph_utils import max_j_node_centrality, sum_j_node_centrality, j_node_centrality, graph_entropy_norm\n",
    "\n",
    "fa = ForceAtlas2()"
   ]
  },
  {
   "cell_type": "code",
   "execution_count": 2,
   "metadata": {},
   "outputs": [],
   "source": [
    "def read_list_of_graphs(dir_name,ext):\n",
    "    list_graphs = [parseGraphmlFile(dir_name+f,weighted=False,directed=False) for f in os.listdir(dir_name) if f.endswith('.' + ext)]\n",
    "    return list_graphs"
   ]
  },
  {
   "cell_type": "code",
   "execution_count": null,
   "metadata": {},
   "outputs": [],
   "source": [
    "benchmarks = ['random-dag', 'rome', 'north']\n",
    "\n",
    "data = []\n",
    "for bench in benchmarks:\n",
    "    list_graphs = read_list_of_graphs(f'../data/{bench}/','graphml')\n",
    "    for idx_graph, graph in tqdm(list(enumerate(list_graphs[n:m]))):\n",
    "\n",
    "        # FA2 layout\n",
    "        pos0 = fa.forceatlas2_networkx_layout(graph)\n",
    "\n",
    "        # Compute general graph attributes\n",
    "        eb = nx.edge_betweenness(graph)     # edge betweenness\n",
    "        st = stress(graph, pos0)             # stress\n",
    "        cross0 = num_crossings(graph, pos0) \n",
    "        edgel0 = mean_edge_length(graph, pos0)\n",
    "        total_stress0 = total_stress(graph, pos0)\n",
    "        deg = nx.degree(graph, graph.nodes)\n",
    "        bridges = nx.bridges(graph)\n",
    "        d0 = distance_matrix(graph) # Do we need this?\n",
    "\n",
    "        for idx_edge, e in enumerate(graph.edges):\n",
    "            n1, n2 = e\n",
    "            \n",
    "            # New position removing edge\n",
    "            graph_copy = graph.copy()\n",
    "            graph_copy.remove_edges_from([e])\n",
    "            pos1 = fa.forceatlas2_networkx_layout(graph_copy, pos=pos0)\n",
    "            pos1_arr = nodes_dict_to_array(pos1)\n",
    "            pos0_arr = nodes_dict_to_array(pos0)\n",
    "            cross1 = num_crossings(graph, pos1) \n",
    "            edgel1 = mean_edge_length(graph, pos1)\n",
    "            total_stress1 = total_stress(graph, pos1)\n",
    "            deg = nx.degree(graph, graph.nodes)\n",
    "            exp_factor_norm = expansion_factor_norm(pos0_arr,pos1_arr)\n",
    "            edge_cross_norm = edge_crossings_norm(cross0-cross1, len(graph_copy.edges))\n",
    "            d1 = distance_matrix(graph_copy) # Do we need this?\n",
    "            # Add new features computed linearly, physics inspired eventually\n",
    "            # Extra attributes\n",
    "            max_deg = max(deg[n1], deg[n2])\n",
    "            min_deg = min(deg[n1], deg[n2])\n",
    "            sum_neighbour_deg_norm = sum_neighbour_degrees_norm(graph_copy,e)\n",
    "            max_neighbour_deg_norm = max_neighbour_degrees_norm(graph_copy,e)\n",
    "            max_jnc = max_j_node_centrality(graph_copy,pos1_arr,e)\n",
    "            sum_jnc = sum_j_node_centrality(graph_copy,pos1_arr,e)\n",
    "            nnodes, nedges = len(graph.nodes), len(graph.edges)\n",
    "            \n",
    "            row = [idx_graph, idx_edge, nnodes, nedges, eb[e], st[e], max_deg, min_deg, e in bridges,\n",
    "                total_stress0 - total_stress1, cross0 - cross1, edgel0 - edgel1,\n",
    "                bench, exp_factor_norm, edge_cross_norm, sum_neighbour_deg_norm, max_neighbour_deg_norm, max_jnc, sum_jnc]\n",
    "            data.append(row)\n",
    "\n",
    "    cols = [] # Add column names when we have all attributes\n",
    "    df = pd.DataFrame(data, columns=cols)"
   ]
  },
  {
   "cell_type": "code",
   "execution_count": null,
   "metadata": {},
   "outputs": [],
   "source": []
  }
 ],
 "metadata": {
  "kernelspec": {
   "display_name": "Python 3",
   "language": "python",
   "name": "python3"
  },
  "language_info": {
   "codemirror_mode": {
    "name": "ipython",
    "version": 3
   },
   "file_extension": ".py",
   "mimetype": "text/x-python",
   "name": "python",
   "nbconvert_exporter": "python",
   "pygments_lexer": "ipython3",
   "version": "3.9.6 (default, Oct 18 2022, 12:41:40) \n[Clang 14.0.0 (clang-1400.0.29.202)]"
  },
  "orig_nbformat": 4,
  "vscode": {
   "interpreter": {
    "hash": "31f2aee4e71d21fbe5cf8b01ff0e069b9275f58929596ceb00d14d90e3e16cd6"
   }
  }
 },
 "nbformat": 4,
 "nbformat_minor": 2
}
