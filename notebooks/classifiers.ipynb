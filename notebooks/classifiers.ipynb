{
 "cells": [
  {
   "cell_type": "code",
   "execution_count": 2,
   "metadata": {},
   "outputs": [
    {
     "ename": "ModuleNotFoundError",
     "evalue": "No module named 'sklearn'",
     "output_type": "error",
     "traceback": [
      "\u001b[0;31m---------------------------------------------------------------------------\u001b[0m",
      "\u001b[0;31mModuleNotFoundError\u001b[0m                       Traceback (most recent call last)",
      "Cell \u001b[0;32mIn [2], line 2\u001b[0m\n\u001b[1;32m      1\u001b[0m \u001b[39mimport\u001b[39;00m \u001b[39mpandas\u001b[39;00m \u001b[39mas\u001b[39;00m \u001b[39mpd\u001b[39;00m\n\u001b[0;32m----> 2\u001b[0m \u001b[39mfrom\u001b[39;00m \u001b[39msklearn\u001b[39;00m\u001b[39m.\u001b[39;00m\u001b[39mmodel_selection\u001b[39;00m \u001b[39mimport\u001b[39;00m train_test_split\n\u001b[1;32m      4\u001b[0m df \u001b[39m=\u001b[39m pd\u001b[39m.\u001b[39mread_csv(\u001b[39m'\u001b[39m\u001b[39m../data/graph_train.csv\u001b[39m\u001b[39m'\u001b[39m)\n\u001b[1;32m      5\u001b[0m y \u001b[39m=\u001b[39m pd\u001b[39m.\u001b[39mcut(df[\u001b[39m'\u001b[39m\u001b[39medge_cross_norm\u001b[39m\u001b[39m'\u001b[39m], bins\u001b[39m=\u001b[39m[\u001b[39m-\u001b[39m\u001b[39m1\u001b[39m,\u001b[39m-\u001b[39m\u001b[39m1e-10\u001b[39m,\u001b[39m1\u001b[39m])\u001b[39m.\u001b[39mto_numpy()\n",
      "\u001b[0;31mModuleNotFoundError\u001b[0m: No module named 'sklearn'"
     ]
    }
   ],
   "source": [
    "# Binning if needed in other classifiers\n",
    "import pandas as pd\n",
    "from sklearn.model_selection import train_test_split\n",
    "\n",
    "df = pd.read_csv('../data/graph_train.csv')\n",
    "y = pd.cut(df['edge_cross_norm'], bins=[-1,-1e-10,1]).to_numpy()\n",
    "df = df.drop(labels=['edge_cross_norm','edge_id','graph_id','num_nodes','num_edges','benchmark','max_deg','min_deg','Unnamed: 0'],axis=1)\n",
    "list_columns = list(df)\n",
    "\n",
    "for col in list_columns:\n",
    "    print(col)\n",
    "    if col!= 'edge_cross_norm' and col!= 'is_bridge':\n",
    "        df[col] = pd.qcut(df[col],q=5)\n",
    "\n",
    "X = df.to_numpy()\n",
    "df.head()\n"
   ]
  },
  {
   "cell_type": "code",
   "execution_count": 25,
   "metadata": {},
   "outputs": [],
   "source": [
    "# XGBoost data preparation \n",
    "import numpy as np\n",
    "import pandas as pd\n",
    "from sklearn.model_selection import train_test_split\n",
    "\n",
    "df2 = pd.read_csv('../data/graph_train.csv')\n",
    "df2['is_bridge'] = df2['is_bridge'].astype(float)\n",
    "yn = (df2['edge_cross_norm']>0).to_numpy(dtype=int)\n",
    "df2 = df2.drop(labels=['edge_cross_norm','edge_id','graph_id','num_nodes','num_edges','benchmark','max_deg','min_deg','Unnamed: 0'],axis=1)\n",
    "Xn = df2.to_numpy(dtype=np.float64)\n",
    "\n",
    "Xn_train, Xn_test, yn_train, yn_test = train_test_split(Xn,yn, shuffle=True)\n",
    "\n",
    "from xgboost import XGBClassifier\n",
    "\n",
    "xgb = XGBClassifier()\n",
    "xgb.fit(Xn_train,yn_train,verbose = True)\n",
    "print(xgb)\n",
    "y_pred = xgb.predict(Xn_test)\n",
    "pos = np.sum([1 if y == 1 else 0 for y in yn_test])\n",
    "print('Amount of better or neutral:',pos)\n",
    "print('Amount of worse:',len(yn_test)-pos)\n",
    "print('Accuracy in test:',(np.sum([1 if yn_test[i]==y_pred[i] else 0 for i in range(len(y_pred))]))/len(yn_test))"
   ]
  }
 ],
 "metadata": {
  "kernelspec": {
   "display_name": "Python 3.9.6 64-bit",
   "language": "python",
   "name": "python3"
  },
  "language_info": {
   "codemirror_mode": {
    "name": "ipython",
    "version": 3
   },
   "file_extension": ".py",
   "mimetype": "text/x-python",
   "name": "python",
   "nbconvert_exporter": "python",
   "pygments_lexer": "ipython3",
   "version": "3.9.6"
  },
  "orig_nbformat": 4,
  "vscode": {
   "interpreter": {
    "hash": "31f2aee4e71d21fbe5cf8b01ff0e069b9275f58929596ceb00d14d90e3e16cd6"
   }
  }
 },
 "nbformat": 4,
 "nbformat_minor": 2
}
