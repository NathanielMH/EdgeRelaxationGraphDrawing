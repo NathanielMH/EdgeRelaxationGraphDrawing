{
 "cells": [
  {
   "cell_type": "code",
   "execution_count": 19,
   "metadata": {},
   "outputs": [
    {
     "name": "stdout",
     "output_type": "stream",
     "text": [
      "edge_betweenness\n",
      "stress\n",
      "is_bridge\n",
      "diff_stress\n",
      "diff_cross\n",
      "diff_edgelength\n",
      "exp_factor_norm\n",
      "sum_neighbour_deg_norm\n",
      "max_neighbour_deg_norm\n",
      "grad_diff\n"
     ]
    },
    {
     "data": {
      "text/html": [
       "<div>\n",
       "<style scoped>\n",
       "    .dataframe tbody tr th:only-of-type {\n",
       "        vertical-align: middle;\n",
       "    }\n",
       "\n",
       "    .dataframe tbody tr th {\n",
       "        vertical-align: top;\n",
       "    }\n",
       "\n",
       "    .dataframe thead th {\n",
       "        text-align: right;\n",
       "    }\n",
       "</style>\n",
       "<table border=\"1\" class=\"dataframe\">\n",
       "  <thead>\n",
       "    <tr style=\"text-align: right;\">\n",
       "      <th></th>\n",
       "      <th>edge_betweenness</th>\n",
       "      <th>stress</th>\n",
       "      <th>is_bridge</th>\n",
       "      <th>diff_stress</th>\n",
       "      <th>diff_cross</th>\n",
       "      <th>diff_edgelength</th>\n",
       "      <th>exp_factor_norm</th>\n",
       "      <th>sum_neighbour_deg_norm</th>\n",
       "      <th>max_neighbour_deg_norm</th>\n",
       "      <th>grad_diff</th>\n",
       "    </tr>\n",
       "  </thead>\n",
       "  <tbody>\n",
       "    <tr>\n",
       "      <th>0</th>\n",
       "      <td>(0.0451, 0.0702]</td>\n",
       "      <td>(0.0818, 0.684]</td>\n",
       "      <td>False</td>\n",
       "      <td>(0.357, 1.41]</td>\n",
       "      <td>(-2.0, 0.0]</td>\n",
       "      <td>(-0.00824, -0.00378]</td>\n",
       "      <td>(0.0607, 0.109]</td>\n",
       "      <td>(0.158, 1.64]</td>\n",
       "      <td>(0.107, 0.92]</td>\n",
       "      <td>(0.211, 7.47]</td>\n",
       "    </tr>\n",
       "    <tr>\n",
       "      <th>1</th>\n",
       "      <td>(-0.000785, 0.0219]</td>\n",
       "      <td>(0.0818, 0.684]</td>\n",
       "      <td>False</td>\n",
       "      <td>(-0.0453, 0.357]</td>\n",
       "      <td>(-2.0, 0.0]</td>\n",
       "      <td>(-0.00146, 0.00165]</td>\n",
       "      <td>(-0.0009714, 0.0192]</td>\n",
       "      <td>(0.158, 1.64]</td>\n",
       "      <td>(0.107, 0.92]</td>\n",
       "      <td>(0.211, 7.47]</td>\n",
       "    </tr>\n",
       "    <tr>\n",
       "      <th>2</th>\n",
       "      <td>(0.0316, 0.0451]</td>\n",
       "      <td>(0.0818, 0.684]</td>\n",
       "      <td>False</td>\n",
       "      <td>(-0.0453, 0.357]</td>\n",
       "      <td>(-2.0, 0.0]</td>\n",
       "      <td>(-0.00146, 0.00165]</td>\n",
       "      <td>(-0.0009714, 0.0192]</td>\n",
       "      <td>(0.158, 1.64]</td>\n",
       "      <td>(0.107, 0.92]</td>\n",
       "      <td>(0.211, 7.47]</td>\n",
       "    </tr>\n",
       "    <tr>\n",
       "      <th>3</th>\n",
       "      <td>(0.0316, 0.0451]</td>\n",
       "      <td>(0.0818, 0.684]</td>\n",
       "      <td>False</td>\n",
       "      <td>(-1.163, -0.0453]</td>\n",
       "      <td>(2.0, 39.0]</td>\n",
       "      <td>(-0.516, -0.00824]</td>\n",
       "      <td>(0.109, 0.607]</td>\n",
       "      <td>(0.158, 1.64]</td>\n",
       "      <td>(0.107, 0.92]</td>\n",
       "      <td>(0.211, 7.47]</td>\n",
       "    </tr>\n",
       "    <tr>\n",
       "      <th>4</th>\n",
       "      <td>(0.0702, 0.545]</td>\n",
       "      <td>(0.0818, 0.684]</td>\n",
       "      <td>False</td>\n",
       "      <td>(-1.163, -0.0453]</td>\n",
       "      <td>(-2.0, 0.0]</td>\n",
       "      <td>(0.00165, 0.266]</td>\n",
       "      <td>(0.0607, 0.109]</td>\n",
       "      <td>(0.158, 1.64]</td>\n",
       "      <td>(0.107, 0.92]</td>\n",
       "      <td>(0.211, 7.47]</td>\n",
       "    </tr>\n",
       "  </tbody>\n",
       "</table>\n",
       "</div>"
      ],
      "text/plain": [
       "      edge_betweenness           stress  is_bridge        diff_stress  \\\n",
       "0     (0.0451, 0.0702]  (0.0818, 0.684]      False      (0.357, 1.41]   \n",
       "1  (-0.000785, 0.0219]  (0.0818, 0.684]      False   (-0.0453, 0.357]   \n",
       "2     (0.0316, 0.0451]  (0.0818, 0.684]      False   (-0.0453, 0.357]   \n",
       "3     (0.0316, 0.0451]  (0.0818, 0.684]      False  (-1.163, -0.0453]   \n",
       "4      (0.0702, 0.545]  (0.0818, 0.684]      False  (-1.163, -0.0453]   \n",
       "\n",
       "    diff_cross       diff_edgelength       exp_factor_norm  \\\n",
       "0  (-2.0, 0.0]  (-0.00824, -0.00378]       (0.0607, 0.109]   \n",
       "1  (-2.0, 0.0]   (-0.00146, 0.00165]  (-0.0009714, 0.0192]   \n",
       "2  (-2.0, 0.0]   (-0.00146, 0.00165]  (-0.0009714, 0.0192]   \n",
       "3  (2.0, 39.0]    (-0.516, -0.00824]        (0.109, 0.607]   \n",
       "4  (-2.0, 0.0]      (0.00165, 0.266]       (0.0607, 0.109]   \n",
       "\n",
       "  sum_neighbour_deg_norm max_neighbour_deg_norm      grad_diff  \n",
       "0          (0.158, 1.64]          (0.107, 0.92]  (0.211, 7.47]  \n",
       "1          (0.158, 1.64]          (0.107, 0.92]  (0.211, 7.47]  \n",
       "2          (0.158, 1.64]          (0.107, 0.92]  (0.211, 7.47]  \n",
       "3          (0.158, 1.64]          (0.107, 0.92]  (0.211, 7.47]  \n",
       "4          (0.158, 1.64]          (0.107, 0.92]  (0.211, 7.47]  "
      ]
     },
     "execution_count": 19,
     "metadata": {},
     "output_type": "execute_result"
    }
   ],
   "source": [
    "import pandas as pd\n",
    "from sklearn.model_selection import train_test_split\n",
    "\n",
    "df = pd.read_csv('../data/graph_train.csv', index_col=0)\n",
    "y = pd.cut(df['edge_cross_norm'], bins=[-1,-1e-10,1]).cat.codes.to_numpy()\n",
    "df = df.drop(labels=['edge_cross_norm','edge_id','graph_id','num_nodes','num_edges','benchmark','max_deg','min_deg'],axis=1)\n",
    "list_columns = list(df)\n",
    "\n",
    "for col in list_columns:\n",
    "    print(col)\n",
    "    if col!= 'edge_cross_norm' and col!= 'is_bridge':\n",
    "        df[col] = pd.qcut(df[col],q=5)\n",
    "\n",
    "X = df.to_numpy()\n",
    "df.head()\n"
   ]
  },
  {
   "cell_type": "code",
   "execution_count": 20,
   "metadata": {},
   "outputs": [],
   "source": [
    "X_train,X_test, y_train, y_test = train_test_split(X,y)"
   ]
  },
  {
   "cell_type": "code",
   "execution_count": 21,
   "metadata": {},
   "outputs": [
    {
     "data": {
      "text/plain": [
       "array([1, 0, 0, ..., 0, 0, 0], dtype=int8)"
      ]
     },
     "execution_count": 21,
     "metadata": {},
     "output_type": "execute_result"
    }
   ],
   "source": [
    "y_train"
   ]
  },
  {
   "cell_type": "code",
   "execution_count": 22,
   "metadata": {},
   "outputs": [
    {
     "name": "stderr",
     "output_type": "stream",
     "text": [
      "<ipython-input-22-5ee0f6ae93f1>:5: DeprecationWarning: `np.int` is a deprecated alias for the builtin `int`. To silence this warning, use `int` by itself. Doing this will not modify any behavior and is safe. When replacing `np.int`, you may wish to use e.g. `np.int64` or `np.int32` to specify the precision. If you wish to review your current use, check the release note link for additional information.\n",
      "Deprecated in NumPy 1.20; for more details and guidance: https://numpy.org/devdocs/release/1.20.0-notes.html#deprecations\n",
      "  yn = (df2['edge_cross_norm']>0).to_numpy(dtype=np.int)\n"
     ]
    }
   ],
   "source": [
    "# XGBoost prep\n",
    "import numpy as np\n",
    "df2 = pd.read_csv('../data/graph_train.csv', index_col=0)\n",
    "df2['is_bridge'] = df2['is_bridge'].astype(float)\n",
    "yn = (df2['edge_cross_norm']>0).to_numpy(dtype=np.int)\n",
    "df2 = df2.drop(labels=['edge_cross_norm','edge_id','graph_id','num_nodes','num_edges','benchmark','max_deg','min_deg'],axis=1)\n",
    "Xn = df2.to_numpy(dtype=np.float64)\n",
    "\n",
    "Xn_train, Xn_test, yn_train, yn_test = train_test_split(Xn,yn)"
   ]
  },
  {
   "cell_type": "code",
   "execution_count": 23,
   "metadata": {},
   "outputs": [
    {
     "data": {
      "text/plain": [
       "0"
      ]
     },
     "execution_count": 23,
     "metadata": {},
     "output_type": "execute_result"
    }
   ],
   "source": [
    "yn[100]"
   ]
  },
  {
   "cell_type": "code",
   "execution_count": 24,
   "metadata": {},
   "outputs": [],
   "source": [
    "from sklearn.preprocessing import LabelEncoder\n",
    "le = LabelEncoder()\n",
    "y_train = le.fit_transform(y_train)"
   ]
  },
  {
   "cell_type": "code",
   "execution_count": 36,
   "metadata": {},
   "outputs": [
    {
     "name": "stderr",
     "output_type": "stream",
     "text": [
      "/usr/local/lib/python3.9/site-packages/xgboost/sklearn.py:861: UserWarning: `eval_metric` in `fit` method is deprecated for better compatibility with scikit-learn, use `eval_metric` in constructor or`set_params` instead.\n",
      "  warnings.warn(\n"
     ]
    },
    {
     "name": "stdout",
     "output_type": "stream",
     "text": [
      "XGBClassifier(base_score=0.5, booster='gbtree', callbacks=None,\n",
      "              colsample_bylevel=1, colsample_bynode=1, colsample_bytree=1,\n",
      "              early_stopping_rounds=None, enable_categorical=False,\n",
      "              eval_metric=None, feature_types=None, gamma=0, gpu_id=-1,\n",
      "              grow_policy='depthwise', importance_type=None,\n",
      "              interaction_constraints='', learning_rate=0.300000012,\n",
      "              max_bin=256, max_cat_threshold=64, max_cat_to_onehot=4,\n",
      "              max_delta_step=0, max_depth=6, max_leaves=0, min_child_weight=1,\n",
      "              missing=nan, monotone_constraints='()', n_estimators=100,\n",
      "              n_jobs=0, num_parallel_tree=1, predictor='auto', random_state=0, ...)\n",
      "[0 0 1 ... 0 0 1]\n"
     ]
    }
   ],
   "source": [
    "from xgboost import XGBClassifier\n",
    "\n",
    "xgb = XGBClassifier()\n",
    "xgb.fit(Xn_train, yn_train, eval_metric = 'auc')\n",
    "print(xgb)\n",
    "yn_pred = xgb.predict(Xn_test)\n",
    "\n",
    "np.sum(yn_pred == yn_test)/len(yn_pred)"
   ]
  },
  {
   "cell_type": "code",
   "execution_count": null,
   "metadata": {},
   "outputs": [
    {
     "data": {
      "text/plain": [
       "array([0, 0, 0, ..., 0, 1, 1])"
      ]
     },
     "execution_count": 14,
     "metadata": {},
     "output_type": "execute_result"
    }
   ],
   "source": [
    "yn_train"
   ]
  },
  {
   "cell_type": "code",
   "execution_count": null,
   "metadata": {},
   "outputs": [],
   "source": []
  }
 ],
 "metadata": {
  "kernelspec": {
   "display_name": "Python 3.9.7 64-bit",
   "language": "python",
   "name": "python3"
  },
  "language_info": {
   "codemirror_mode": {
    "name": "ipython",
    "version": 3
   },
   "file_extension": ".py",
   "mimetype": "text/x-python",
   "name": "python",
   "nbconvert_exporter": "python",
   "pygments_lexer": "ipython3",
   "version": "3.9.7"
  },
  "orig_nbformat": 4,
  "vscode": {
   "interpreter": {
    "hash": "397704579725e15f5c7cb49fe5f0341eb7531c82d19f2c29d197e8b64ab5776b"
   }
  }
 },
 "nbformat": 4,
 "nbformat_minor": 2
}
