{
 "cells": [
  {
   "cell_type": "code",
   "execution_count": 38,
   "metadata": {},
   "outputs": [
    {
     "name": "stdout",
     "output_type": "stream",
     "text": [
      "edge_betweenness\n",
      "stress\n",
      "is_bridge\n",
      "diff_stress\n",
      "diff_cross\n",
      "diff_edgelength\n",
      "exp_factor_norm\n",
      "sum_neighbour_deg_norm\n",
      "max_neighbour_deg_norm\n",
      "grad_diff\n"
     ]
    },
    {
     "data": {
      "text/html": [
       "<div>\n",
       "<style scoped>\n",
       "    .dataframe tbody tr th:only-of-type {\n",
       "        vertical-align: middle;\n",
       "    }\n",
       "\n",
       "    .dataframe tbody tr th {\n",
       "        vertical-align: top;\n",
       "    }\n",
       "\n",
       "    .dataframe thead th {\n",
       "        text-align: right;\n",
       "    }\n",
       "</style>\n",
       "<table border=\"1\" class=\"dataframe\">\n",
       "  <thead>\n",
       "    <tr style=\"text-align: right;\">\n",
       "      <th></th>\n",
       "      <th>edge_betweenness</th>\n",
       "      <th>stress</th>\n",
       "      <th>is_bridge</th>\n",
       "      <th>diff_stress</th>\n",
       "      <th>diff_cross</th>\n",
       "      <th>diff_edgelength</th>\n",
       "      <th>exp_factor_norm</th>\n",
       "      <th>sum_neighbour_deg_norm</th>\n",
       "      <th>max_neighbour_deg_norm</th>\n",
       "      <th>grad_diff</th>\n",
       "    </tr>\n",
       "  </thead>\n",
       "  <tbody>\n",
       "    <tr>\n",
       "      <th>0</th>\n",
       "      <td>(0.0451, 0.0702]</td>\n",
       "      <td>(0.0818, 0.684]</td>\n",
       "      <td>False</td>\n",
       "      <td>(0.357, 1.41]</td>\n",
       "      <td>(-2.0, 0.0]</td>\n",
       "      <td>(-0.00824, -0.00378]</td>\n",
       "      <td>(0.0607, 0.109]</td>\n",
       "      <td>(0.158, 1.64]</td>\n",
       "      <td>(0.107, 0.92]</td>\n",
       "      <td>(0.211, 7.47]</td>\n",
       "    </tr>\n",
       "    <tr>\n",
       "      <th>1</th>\n",
       "      <td>(-0.000785, 0.0219]</td>\n",
       "      <td>(0.0818, 0.684]</td>\n",
       "      <td>False</td>\n",
       "      <td>(-0.0453, 0.357]</td>\n",
       "      <td>(-2.0, 0.0]</td>\n",
       "      <td>(-0.00146, 0.00165]</td>\n",
       "      <td>(-0.0009714, 0.0192]</td>\n",
       "      <td>(0.158, 1.64]</td>\n",
       "      <td>(0.107, 0.92]</td>\n",
       "      <td>(0.211, 7.47]</td>\n",
       "    </tr>\n",
       "    <tr>\n",
       "      <th>2</th>\n",
       "      <td>(0.0316, 0.0451]</td>\n",
       "      <td>(0.0818, 0.684]</td>\n",
       "      <td>False</td>\n",
       "      <td>(-0.0453, 0.357]</td>\n",
       "      <td>(-2.0, 0.0]</td>\n",
       "      <td>(-0.00146, 0.00165]</td>\n",
       "      <td>(-0.0009714, 0.0192]</td>\n",
       "      <td>(0.158, 1.64]</td>\n",
       "      <td>(0.107, 0.92]</td>\n",
       "      <td>(0.211, 7.47]</td>\n",
       "    </tr>\n",
       "    <tr>\n",
       "      <th>3</th>\n",
       "      <td>(0.0316, 0.0451]</td>\n",
       "      <td>(0.0818, 0.684]</td>\n",
       "      <td>False</td>\n",
       "      <td>(-1.163, -0.0453]</td>\n",
       "      <td>(2.0, 39.0]</td>\n",
       "      <td>(-0.516, -0.00824]</td>\n",
       "      <td>(0.109, 0.607]</td>\n",
       "      <td>(0.158, 1.64]</td>\n",
       "      <td>(0.107, 0.92]</td>\n",
       "      <td>(0.211, 7.47]</td>\n",
       "    </tr>\n",
       "    <tr>\n",
       "      <th>4</th>\n",
       "      <td>(0.0702, 0.545]</td>\n",
       "      <td>(0.0818, 0.684]</td>\n",
       "      <td>False</td>\n",
       "      <td>(-1.163, -0.0453]</td>\n",
       "      <td>(-2.0, 0.0]</td>\n",
       "      <td>(0.00165, 0.266]</td>\n",
       "      <td>(0.0607, 0.109]</td>\n",
       "      <td>(0.158, 1.64]</td>\n",
       "      <td>(0.107, 0.92]</td>\n",
       "      <td>(0.211, 7.47]</td>\n",
       "    </tr>\n",
       "  </tbody>\n",
       "</table>\n",
       "</div>"
      ],
      "text/plain": [
       "      edge_betweenness           stress  is_bridge        diff_stress  \\\n",
       "0     (0.0451, 0.0702]  (0.0818, 0.684]      False      (0.357, 1.41]   \n",
       "1  (-0.000785, 0.0219]  (0.0818, 0.684]      False   (-0.0453, 0.357]   \n",
       "2     (0.0316, 0.0451]  (0.0818, 0.684]      False   (-0.0453, 0.357]   \n",
       "3     (0.0316, 0.0451]  (0.0818, 0.684]      False  (-1.163, -0.0453]   \n",
       "4      (0.0702, 0.545]  (0.0818, 0.684]      False  (-1.163, -0.0453]   \n",
       "\n",
       "    diff_cross       diff_edgelength       exp_factor_norm  \\\n",
       "0  (-2.0, 0.0]  (-0.00824, -0.00378]       (0.0607, 0.109]   \n",
       "1  (-2.0, 0.0]   (-0.00146, 0.00165]  (-0.0009714, 0.0192]   \n",
       "2  (-2.0, 0.0]   (-0.00146, 0.00165]  (-0.0009714, 0.0192]   \n",
       "3  (2.0, 39.0]    (-0.516, -0.00824]        (0.109, 0.607]   \n",
       "4  (-2.0, 0.0]      (0.00165, 0.266]       (0.0607, 0.109]   \n",
       "\n",
       "  sum_neighbour_deg_norm max_neighbour_deg_norm      grad_diff  \n",
       "0          (0.158, 1.64]          (0.107, 0.92]  (0.211, 7.47]  \n",
       "1          (0.158, 1.64]          (0.107, 0.92]  (0.211, 7.47]  \n",
       "2          (0.158, 1.64]          (0.107, 0.92]  (0.211, 7.47]  \n",
       "3          (0.158, 1.64]          (0.107, 0.92]  (0.211, 7.47]  \n",
       "4          (0.158, 1.64]          (0.107, 0.92]  (0.211, 7.47]  "
      ]
     },
     "execution_count": 38,
     "metadata": {},
     "output_type": "execute_result"
    }
   ],
   "source": [
    "import pandas as pd\n",
    "from sklearn.model_selection import train_test_split\n",
    "\n",
    "df = pd.read_csv('../data/graph_train.csv')\n",
    "y = pd.cut(df['edge_cross_norm'], bins=[-1,-1e-10,1]).to_numpy()\n",
    "df = df.drop(labels=['edge_cross_norm','edge_id','graph_id','num_nodes','num_edges','benchmark','max_deg','min_deg','Unnamed: 0'],axis=1)\n",
    "list_columns = list(df)\n",
    "\n",
    "for col in list_columns:\n",
    "    print(col)\n",
    "    if col!= 'edge_cross_norm' and col!= 'is_bridge':\n",
    "        df[col] = pd.qcut(df[col],q=5)\n",
    "\n",
    "X = df.to_numpy()\n",
    "df.head()\n"
   ]
  },
  {
   "cell_type": "code",
   "execution_count": 39,
   "metadata": {},
   "outputs": [],
   "source": [
    "X_train,X_test, y_train, y_test = train_test_split(X,y)"
   ]
  },
  {
   "cell_type": "code",
   "execution_count": 40,
   "metadata": {},
   "outputs": [
    {
     "data": {
      "text/plain": [
       "Interval(-1e-10, 1.0, closed='right')"
      ]
     },
     "execution_count": 40,
     "metadata": {},
     "output_type": "execute_result"
    }
   ],
   "source": [
    "y[0]"
   ]
  },
  {
   "cell_type": "code",
   "execution_count": 57,
   "metadata": {},
   "outputs": [],
   "source": [
    "# XGBoost prep\n",
    "import numpy as np\n",
    "df2 = pd.read_csv('../data/graph_train.csv')\n",
    "df2['is_bridge'] = df2['is_bridge'].astype(float)\n",
    "yn = df2['edge_cross_norm'].to_numpy(dtype=np.float64)\n",
    "df2 = df2.drop(labels=['edge_cross_norm','edge_id','graph_id','num_nodes','num_edges','benchmark','max_deg','min_deg','Unnamed: 0'],axis=1)\n",
    "Xn = df2.to_numpy(dtype=np.float64)\n",
    "\n",
    "Xn_train, Xn_test, yn_train, yn_test = train_test_split(Xn,yn)"
   ]
  },
  {
   "cell_type": "code",
   "execution_count": 59,
   "metadata": {},
   "outputs": [
    {
     "data": {
      "text/plain": [
       "0.0"
      ]
     },
     "execution_count": 59,
     "metadata": {},
     "output_type": "execute_result"
    }
   ],
   "source": [
    "yn[0]"
   ]
  },
  {
   "cell_type": "code",
   "execution_count": 61,
   "metadata": {},
   "outputs": [],
   "source": [
    "from sklearn.preprocessing import LabelEncoder\n",
    "le = LabelEncoder()\n",
    "y_train = le.fit_transform(y_train)"
   ]
  },
  {
   "cell_type": "code",
   "execution_count": 62,
   "metadata": {},
   "outputs": [
    {
     "ename": "ValueError",
     "evalue": "Invalid classes inferred from unique values of `y`.  Expected: [   0    1    2 ... 2369 2370 2371], got [-0.125      -0.06060606 -0.05833333 ...  0.02371542  0.02380952\n  0.03333333]",
     "output_type": "error",
     "traceback": [
      "\u001b[0;31m---------------------------------------------------------------------------\u001b[0m",
      "\u001b[0;31mValueError\u001b[0m                                Traceback (most recent call last)",
      "Cell \u001b[0;32mIn [62], line 4\u001b[0m\n\u001b[1;32m      1\u001b[0m \u001b[39mfrom\u001b[39;00m \u001b[39mxgboost\u001b[39;00m \u001b[39mimport\u001b[39;00m XGBClassifier\n\u001b[1;32m      3\u001b[0m xgb \u001b[39m=\u001b[39m XGBClassifier()\n\u001b[0;32m----> 4\u001b[0m xgb\u001b[39m.\u001b[39;49mfit(Xn_train,yn_train, eval_metric \u001b[39m=\u001b[39;49m \u001b[39m'\u001b[39;49m\u001b[39mauc\u001b[39;49m\u001b[39m'\u001b[39;49m)\n\u001b[1;32m      5\u001b[0m \u001b[39mprint\u001b[39m(xgb)\n\u001b[1;32m      6\u001b[0m y_pred \u001b[39m=\u001b[39m xgb\u001b[39m.\u001b[39mpredict(X_test)\n",
      "File \u001b[0;32m/Library/Frameworks/Python.framework/Versions/3.9/lib/python3.9/site-packages/xgboost/core.py:620\u001b[0m, in \u001b[0;36mrequire_keyword_args.<locals>.throw_if.<locals>.inner_f\u001b[0;34m(*args, **kwargs)\u001b[0m\n\u001b[1;32m    618\u001b[0m \u001b[39mfor\u001b[39;00m k, arg \u001b[39min\u001b[39;00m \u001b[39mzip\u001b[39m(sig\u001b[39m.\u001b[39mparameters, args):\n\u001b[1;32m    619\u001b[0m     kwargs[k] \u001b[39m=\u001b[39m arg\n\u001b[0;32m--> 620\u001b[0m \u001b[39mreturn\u001b[39;00m func(\u001b[39m*\u001b[39;49m\u001b[39m*\u001b[39;49mkwargs)\n",
      "File \u001b[0;32m/Library/Frameworks/Python.framework/Versions/3.9/lib/python3.9/site-packages/xgboost/sklearn.py:1466\u001b[0m, in \u001b[0;36mXGBClassifier.fit\u001b[0;34m(self, X, y, sample_weight, base_margin, eval_set, eval_metric, early_stopping_rounds, verbose, xgb_model, sample_weight_eval_set, base_margin_eval_set, feature_weights, callbacks)\u001b[0m\n\u001b[1;32m   1461\u001b[0m     expected_classes \u001b[39m=\u001b[39m np\u001b[39m.\u001b[39marange(\u001b[39mself\u001b[39m\u001b[39m.\u001b[39mn_classes_)\n\u001b[1;32m   1462\u001b[0m \u001b[39mif\u001b[39;00m (\n\u001b[1;32m   1463\u001b[0m     \u001b[39mself\u001b[39m\u001b[39m.\u001b[39mclasses_\u001b[39m.\u001b[39mshape \u001b[39m!=\u001b[39m expected_classes\u001b[39m.\u001b[39mshape\n\u001b[1;32m   1464\u001b[0m     \u001b[39mor\u001b[39;00m \u001b[39mnot\u001b[39;00m (\u001b[39mself\u001b[39m\u001b[39m.\u001b[39mclasses_ \u001b[39m==\u001b[39m expected_classes)\u001b[39m.\u001b[39mall()\n\u001b[1;32m   1465\u001b[0m ):\n\u001b[0;32m-> 1466\u001b[0m     \u001b[39mraise\u001b[39;00m \u001b[39mValueError\u001b[39;00m(\n\u001b[1;32m   1467\u001b[0m         \u001b[39mf\u001b[39m\u001b[39m\"\u001b[39m\u001b[39mInvalid classes inferred from unique values of `y`.  \u001b[39m\u001b[39m\"\u001b[39m\n\u001b[1;32m   1468\u001b[0m         \u001b[39mf\u001b[39m\u001b[39m\"\u001b[39m\u001b[39mExpected: \u001b[39m\u001b[39m{\u001b[39;00mexpected_classes\u001b[39m}\u001b[39;00m\u001b[39m, got \u001b[39m\u001b[39m{\u001b[39;00m\u001b[39mself\u001b[39m\u001b[39m.\u001b[39mclasses_\u001b[39m}\u001b[39;00m\u001b[39m\"\u001b[39m\n\u001b[1;32m   1469\u001b[0m     )\n\u001b[1;32m   1471\u001b[0m params \u001b[39m=\u001b[39m \u001b[39mself\u001b[39m\u001b[39m.\u001b[39mget_xgb_params()\n\u001b[1;32m   1473\u001b[0m \u001b[39mif\u001b[39;00m callable(\u001b[39mself\u001b[39m\u001b[39m.\u001b[39mobjective):\n",
      "\u001b[0;31mValueError\u001b[0m: Invalid classes inferred from unique values of `y`.  Expected: [   0    1    2 ... 2369 2370 2371], got [-0.125      -0.06060606 -0.05833333 ...  0.02371542  0.02380952\n  0.03333333]"
     ]
    }
   ],
   "source": [
    "from xgboost import XGBClassifier\n",
    "\n",
    "xgb = XGBClassifier()\n",
    "xgb.fit(Xn_train,yn_train, eval_metric = 'auc')\n",
    "print(xgb)\n",
    "y_pred = xgb.predict(X_test)"
   ]
  },
  {
   "cell_type": "code",
   "execution_count": null,
   "metadata": {},
   "outputs": [],
   "source": []
  }
 ],
 "metadata": {
  "kernelspec": {
   "display_name": "Python 3.9.6 64-bit",
   "language": "python",
   "name": "python3"
  },
  "language_info": {
   "codemirror_mode": {
    "name": "ipython",
    "version": 3
   },
   "file_extension": ".py",
   "mimetype": "text/x-python",
   "name": "python",
   "nbconvert_exporter": "python",
   "pygments_lexer": "ipython3",
   "version": "3.9.6"
  },
  "orig_nbformat": 4,
  "vscode": {
   "interpreter": {
    "hash": "31f2aee4e71d21fbe5cf8b01ff0e069b9275f58929596ceb00d14d90e3e16cd6"
   }
  }
 },
 "nbformat": 4,
 "nbformat_minor": 2
}
