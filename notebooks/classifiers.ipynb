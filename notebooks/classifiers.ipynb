{
 "cells": [
  {
   "cell_type": "code",
   "execution_count": null,
   "metadata": {},
   "outputs": [
    {
     "name": "stdout",
     "output_type": "stream",
     "text": [
      "edge_betweenness\n",
      "stress\n",
      "is_bridge\n",
      "diff_stress\n",
      "diff_cross\n",
      "diff_edgelength\n",
      "exp_factor_norm\n",
      "sum_neighbour_deg_norm\n",
      "max_neighbour_deg_norm\n",
      "grad_diff\n"
     ]
    },
    {
     "data": {
      "text/html": [
       "<div>\n",
       "<style scoped>\n",
       "    .dataframe tbody tr th:only-of-type {\n",
       "        vertical-align: middle;\n",
       "    }\n",
       "\n",
       "    .dataframe tbody tr th {\n",
       "        vertical-align: top;\n",
       "    }\n",
       "\n",
       "    .dataframe thead th {\n",
       "        text-align: right;\n",
       "    }\n",
       "</style>\n",
       "<table border=\"1\" class=\"dataframe\">\n",
       "  <thead>\n",
       "    <tr style=\"text-align: right;\">\n",
       "      <th></th>\n",
       "      <th>edge_betweenness</th>\n",
       "      <th>stress</th>\n",
       "      <th>is_bridge</th>\n",
       "      <th>diff_stress</th>\n",
       "      <th>diff_cross</th>\n",
       "      <th>diff_edgelength</th>\n",
       "      <th>exp_factor_norm</th>\n",
       "      <th>sum_neighbour_deg_norm</th>\n",
       "      <th>max_neighbour_deg_norm</th>\n",
       "      <th>grad_diff</th>\n",
       "    </tr>\n",
       "  </thead>\n",
       "  <tbody>\n",
       "    <tr>\n",
       "      <th>0</th>\n",
       "      <td>(0.0451, 0.0702]</td>\n",
       "      <td>(0.0818, 0.684]</td>\n",
       "      <td>False</td>\n",
       "      <td>(0.357, 1.41]</td>\n",
       "      <td>(-2.0, 0.0]</td>\n",
       "      <td>(-0.00824, -0.00378]</td>\n",
       "      <td>(0.0607, 0.109]</td>\n",
       "      <td>(0.158, 1.64]</td>\n",
       "      <td>(0.107, 0.92]</td>\n",
       "      <td>(0.211, 7.47]</td>\n",
       "    </tr>\n",
       "    <tr>\n",
       "      <th>1</th>\n",
       "      <td>(-0.000785, 0.0219]</td>\n",
       "      <td>(0.0818, 0.684]</td>\n",
       "      <td>False</td>\n",
       "      <td>(-0.0453, 0.357]</td>\n",
       "      <td>(-2.0, 0.0]</td>\n",
       "      <td>(-0.00146, 0.00165]</td>\n",
       "      <td>(-0.0009714, 0.0192]</td>\n",
       "      <td>(0.158, 1.64]</td>\n",
       "      <td>(0.107, 0.92]</td>\n",
       "      <td>(0.211, 7.47]</td>\n",
       "    </tr>\n",
       "    <tr>\n",
       "      <th>2</th>\n",
       "      <td>(0.0316, 0.0451]</td>\n",
       "      <td>(0.0818, 0.684]</td>\n",
       "      <td>False</td>\n",
       "      <td>(-0.0453, 0.357]</td>\n",
       "      <td>(-2.0, 0.0]</td>\n",
       "      <td>(-0.00146, 0.00165]</td>\n",
       "      <td>(-0.0009714, 0.0192]</td>\n",
       "      <td>(0.158, 1.64]</td>\n",
       "      <td>(0.107, 0.92]</td>\n",
       "      <td>(0.211, 7.47]</td>\n",
       "    </tr>\n",
       "    <tr>\n",
       "      <th>3</th>\n",
       "      <td>(0.0316, 0.0451]</td>\n",
       "      <td>(0.0818, 0.684]</td>\n",
       "      <td>False</td>\n",
       "      <td>(-1.163, -0.0453]</td>\n",
       "      <td>(2.0, 39.0]</td>\n",
       "      <td>(-0.516, -0.00824]</td>\n",
       "      <td>(0.109, 0.607]</td>\n",
       "      <td>(0.158, 1.64]</td>\n",
       "      <td>(0.107, 0.92]</td>\n",
       "      <td>(0.211, 7.47]</td>\n",
       "    </tr>\n",
       "    <tr>\n",
       "      <th>4</th>\n",
       "      <td>(0.0702, 0.545]</td>\n",
       "      <td>(0.0818, 0.684]</td>\n",
       "      <td>False</td>\n",
       "      <td>(-1.163, -0.0453]</td>\n",
       "      <td>(-2.0, 0.0]</td>\n",
       "      <td>(0.00165, 0.266]</td>\n",
       "      <td>(0.0607, 0.109]</td>\n",
       "      <td>(0.158, 1.64]</td>\n",
       "      <td>(0.107, 0.92]</td>\n",
       "      <td>(0.211, 7.47]</td>\n",
       "    </tr>\n",
       "  </tbody>\n",
       "</table>\n",
       "</div>"
      ],
      "text/plain": [
       "      edge_betweenness           stress  is_bridge        diff_stress  \\\n",
       "0     (0.0451, 0.0702]  (0.0818, 0.684]      False      (0.357, 1.41]   \n",
       "1  (-0.000785, 0.0219]  (0.0818, 0.684]      False   (-0.0453, 0.357]   \n",
       "2     (0.0316, 0.0451]  (0.0818, 0.684]      False   (-0.0453, 0.357]   \n",
       "3     (0.0316, 0.0451]  (0.0818, 0.684]      False  (-1.163, -0.0453]   \n",
       "4      (0.0702, 0.545]  (0.0818, 0.684]      False  (-1.163, -0.0453]   \n",
       "\n",
       "    diff_cross       diff_edgelength       exp_factor_norm  \\\n",
       "0  (-2.0, 0.0]  (-0.00824, -0.00378]       (0.0607, 0.109]   \n",
       "1  (-2.0, 0.0]   (-0.00146, 0.00165]  (-0.0009714, 0.0192]   \n",
       "2  (-2.0, 0.0]   (-0.00146, 0.00165]  (-0.0009714, 0.0192]   \n",
       "3  (2.0, 39.0]    (-0.516, -0.00824]        (0.109, 0.607]   \n",
       "4  (-2.0, 0.0]      (0.00165, 0.266]       (0.0607, 0.109]   \n",
       "\n",
       "  sum_neighbour_deg_norm max_neighbour_deg_norm      grad_diff  \n",
       "0          (0.158, 1.64]          (0.107, 0.92]  (0.211, 7.47]  \n",
       "1          (0.158, 1.64]          (0.107, 0.92]  (0.211, 7.47]  \n",
       "2          (0.158, 1.64]          (0.107, 0.92]  (0.211, 7.47]  \n",
       "3          (0.158, 1.64]          (0.107, 0.92]  (0.211, 7.47]  \n",
       "4          (0.158, 1.64]          (0.107, 0.92]  (0.211, 7.47]  "
      ]
     },
     "execution_count": 34,
     "metadata": {},
     "output_type": "execute_result"
    }
   ],
   "source": [
    "# Binning if needed in other classifiers\n",
    "import pandas as pd\n",
    "from sklearn.model_selection import train_test_split\n",
    "\n",
    "df = pd.read_csv('../data/graph_train.csv')\n",
    "y = pd.cut(df['edge_cross_norm'], bins=[-1,-1e-10,1]).to_numpy()\n",
    "df = df.drop(labels=['edge_cross_norm','edge_id','graph_id','num_nodes','num_edges','benchmark','max_deg','min_deg','Unnamed: 0'],axis=1)\n",
    "list_columns = list(df)\n",
    "\n",
    "for col in list_columns:\n",
    "    print(col)\n",
    "    if col!= 'edge_cross_norm' and col!= 'is_bridge':\n",
    "        df[col] = pd.qcut(df[col],q=5)\n",
    "\n",
    "X = df.to_numpy()\n",
    "df.head()\n"
   ]
  },
  {
   "cell_type": "code",
   "execution_count": 8,
   "metadata": {},
   "outputs": [],
   "source": [
    "# XGBoost data preparation \n",
    "import numpy as np\n",
    "import pandas as pd\n",
    "from sklearn.model_selection import train_test_split\n",
    "\n",
    "df2 = pd.read_csv('../data/graph_train.csv')\n",
    "df2['is_bridge'] = df2['is_bridge'].astype(float)\n",
    "yn = (df2['edge_cross_norm']>0).to_numpy(dtype=int)\n",
    "df2 = df2.drop(labels=['edge_cross_norm','edge_id','graph_id','num_nodes','num_edges','benchmark','max_deg','min_deg','Unnamed: 0','diff_cross'],axis=1)\n",
    "Xn = df2.to_numpy(dtype=float)\n",
    "\n",
    "Xn_train, Xn_test, yn_train, yn_test = train_test_split(Xn,yn,shuffle=True)"
   ]
  },
  {
   "cell_type": "code",
   "execution_count": 9,
   "metadata": {},
   "outputs": [
    {
     "name": "stderr",
     "output_type": "stream",
     "text": [
      "c:\\Users\\natha\\anaconda3\\lib\\site-packages\\xgboost\\sklearn.py:1224: UserWarning: The use of label encoder in XGBClassifier is deprecated and will be removed in a future release. To remove this warning, do the following: 1) Pass option use_label_encoder=False when constructing XGBClassifier object; and 2) Encode your labels (y) as integers starting with 0, i.e. 0, 1, 2, ..., [num_class - 1].\n",
      "  warnings.warn(label_encoder_deprecation_msg, UserWarning)\n"
     ]
    },
    {
     "name": "stdout",
     "output_type": "stream",
     "text": [
      "[13:03:44] WARNING: C:\\Windows\\Temp\\abs_557yfx631l\\croots\\recipe\\xgboost-split_1659548953302\\work\\src\\learner.cc:1115: Starting in XGBoost 1.3.0, the default evaluation metric used with the objective 'binary:logistic' was changed from 'error' to 'logloss'. Explicitly set eval_metric if you'd like to restore the old behavior.\n",
      "XGBClassifier(base_score=0.5, booster='gbtree', colsample_bylevel=1,\n",
      "              colsample_bynode=1, colsample_bytree=1, enable_categorical=False,\n",
      "              gamma=0, gpu_id=-1, importance_type=None,\n",
      "              interaction_constraints='', learning_rate=0.300000012,\n",
      "              max_delta_step=0, max_depth=6, min_child_weight=1, missing=nan,\n",
      "              monotone_constraints='()', n_estimators=100, n_jobs=8,\n",
      "              num_parallel_tree=1, predictor='auto', random_state=0,\n",
      "              reg_alpha=0, reg_lambda=1, scale_pos_weight=1, subsample=1,\n",
      "              tree_method='exact', validate_parameters=1, verbosity=None)\n",
      "Amount of better: 1413\n",
      "Amount of neutral or worse: 3620\n",
      "Accuracy in test: 0.7178621100735147\n"
     ]
    }
   ],
   "source": [
    "from xgboost import XGBClassifier\n",
    "\n",
    "xgb = XGBClassifier()\n",
    "xgb.fit(Xn_train,yn_train,verbose = True)\n",
    "print(xgb)\n",
    "y_pred = xgb.predict(Xn_test)\n",
    "pos = np.sum([1 if y == 1 else 0 for y in yn_test])\n",
    "print('Amount of better:',pos)\n",
    "print('Amount of neutral or worse:',len(yn_test)-pos)\n",
    "print('Accuracy in test:',(sum([1 if yn_test[i]==y_pred[i] else 0 for i in range(len(y_pred))]))/len(yn_test))"
   ]
  }
 ],
 "metadata": {
  "kernelspec": {
   "display_name": "Python 3.9.13 ('base')",
   "language": "python",
   "name": "python3"
  },
  "language_info": {
   "codemirror_mode": {
    "name": "ipython",
    "version": 3
   },
   "file_extension": ".py",
   "mimetype": "text/x-python",
   "name": "python",
   "nbconvert_exporter": "python",
   "pygments_lexer": "ipython3",
   "version": "3.9.13"
  },
  "orig_nbformat": 4,
  "vscode": {
   "interpreter": {
    "hash": "f6716dbedf63cc3cc3454830c6e7cfdb12d0aa2e0dca19a8f02decd88c98998a"
   }
  }
 },
 "nbformat": 4,
 "nbformat_minor": 2
}
