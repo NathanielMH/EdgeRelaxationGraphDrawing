{
 "cells": [
  {
   "cell_type": "code",
   "execution_count": 1,
   "metadata": {},
   "outputs": [
    {
     "name": "stdout",
     "output_type": "stream",
     "text": [
      "No cython detected.  Install cython and compile the fa2util module for a 10-100x speed boost.\n"
     ]
    }
   ],
   "source": [
    "# Notebook to generate images\n",
    "\n",
    "# The last two are kept for normalization purposes.\n",
    "import pandas as pd\n",
    "import os, sys\n",
    "module_path = os.path.abspath(os.path.join('..'))\n",
    "if module_path not in sys.path:\n",
    "    sys.path.append(module_path)\n",
    "import pickle\n",
    "from xgboost import XGBClassifier\n",
    "\n",
    "\n",
    "import numpy as np\n",
    "import networkx as nx\n",
    "import matplotlib.pyplot as plt\n",
    "from tqdm import tqdm\n",
    "from general.data_generation import graph_to_df, draw_fa2, draw_kk\n",
    "from general.model_utils import preprocess_data, make_predictions\n",
    "\n",
    "from src.graph_dataset import GraphDataset\n",
    "from src.graph_parser import parseGraphmlFile\n",
    "from src.graph_utils import stress, total_stress, num_crossings, mean_edge_length, nodes_dict_to_array, distance_matrix\n",
    "from src.graph_utils import gradient_kamada_kawai, max_neighbour_degrees_norm, sum_neighbour_degrees_norm, expansion_factor_norm, edge_crossings_norm\n",
    "from src.graph_utils import max_j_node_centrality, sum_j_node_centrality, j_node_centrality, graph_entropy_norm, electro_forces_in_neighbourhood, cos_force_diff_in_neighbourhood"
   ]
  },
  {
   "cell_type": "code",
   "execution_count": 8,
   "metadata": {},
   "outputs": [],
   "source": [
    "#####\n",
    "# Auxiliary functions \n",
    "#####\n",
    "def bfs_on_edges(g: nx.Graph, edge: list or tuple, depth_limit) -> list:\n",
    "    bfs_edges = {edge}\n",
    "    sp = dict(nx.all_pairs_shortest_path_length(g))\n",
    "    for e in nx.edge_bfs(g, edge[0]):\n",
    "        if sp[e[0]][edge[0]] == depth_limit+1 or sp[e[1]][edge[0]] == depth_limit+1:\n",
    "            break\n",
    "        bfs_edges.add(e)\n",
    "    \n",
    "    for e in nx.edge_bfs(g, edge[1]):\n",
    "        if sp[e[0]][edge[1]] == depth_limit+1 or sp[e[1]][edge[1]] == depth_limit+1:\n",
    "            break\n",
    "        bfs_edges.add(e)\n",
    "\n",
    "    return list(bfs_edges)\n",
    "\n",
    "def relax_block(graph: nx.Graph, draw_f, model: XGBClassifier, data: pd.DataFrame = None, depth_limit: int = 3, num_it = 5) -> dict:\n",
    "    \"\"\"Relax 1 edge -> block near edges -> relax 1 edge -> block near edges -> ... \n",
    "    \n",
    "    Args:\n",
    "        graph (nx.Graph): graph to relax\n",
    "        draw_f (function): function to draw the graph\n",
    "        model (XGBClassifier): model to use for predictions on which edge to relax\n",
    "        data (pd.DataFrame): data to use for predictions. If None, it will be computed from the graph\n",
    "        depth_limit (int): number of bfs steps to block. Default is 3.\n",
    "\n",
    "    Returns:\n",
    "        pos (dict): final positions of the nodes\n",
    "    \"\"\"\n",
    "    if data is None:\n",
    "        data = graph_to_df(graph,0,draw_f,bench='Test', include_labels=False)\n",
    "        X = preprocess_data(data,return_labels=False,drop_labels=False)\n",
    "    else:\n",
    "        X = preprocess_data(data,return_labels=False,drop_labels=True)\n",
    "    proba = np.array(make_predictions(model, X)).flatten()\n",
    "\n",
    "    diff_crossings = -1\n",
    "    relaxed_edges = []\n",
    "    diff_crossings_hist = []\n",
    "\n",
    "    g2 = graph.copy()\n",
    "\n",
    "    edge2idx = {e:idx for idx, e in enumerate(graph.edges)}\n",
    "    for idx, e in enumerate(graph.edges):\n",
    "        edge2idx[e[::-1]] = idx\n",
    "\n",
    "    # print(np.max(list(edge2idx.values())))\n",
    "    # print(len(proba))\n",
    "\n",
    "    for it in range(num_it):\n",
    "        max_proba_idx = np.argmax(proba)\n",
    "        max_proba_edge = list(graph.edges)[max_proba_idx]\n",
    "        relaxed_edges.append(max_proba_edge)\n",
    "        \n",
    "        edges2block = bfs_on_edges(graph, max_proba_edge, depth_limit)\n",
    "        idxedges2block = [edge2idx[e] for e in edges2block]\n",
    "\n",
    "        for e in [max_proba_idx, *idxedges2block]:\n",
    "            proba[e] = -1\n",
    "\n",
    "        g2.remove_edges_from([max_proba_edge])\n",
    "\n",
    "        diff_crossings = compareGraphs(graph, graph, draw_f(graph), draw_f(g2), show=False)[0]\n",
    "        diff_crossings_hist.append(diff_crossings)\n",
    "    \n",
    "    min_crossings_idx = np.argmin(diff_crossings_hist)\n",
    "\n",
    "    g2 = graph.copy()\n",
    "\n",
    "    g2.remove_edges_from(relaxed_edges[:min_crossings_idx])\n",
    "\n",
    "    pos = draw_f(g2, pos=draw_f(graph))\n",
    "\n",
    "    return pos\n",
    "\n",
    "def relax_and_recompute(graph: nx.Graph, draw_f, model: XGBClassifier, data: pd.DataFrame = None, T:float = 0. , k: int = 3) -> dict:\n",
    "    \"\"\"Relax 1 edge -> recompute -> relax 1 edge -> recompute -> ... k times\n",
    "    \n",
    "    Args:\n",
    "        graph (nx.Graph): graph to relax\n",
    "        draw_f (function): function to draw the graph\n",
    "        model (XGBClassifier): model to use for predictions on which edge to relax\n",
    "        data (pd.DataFrame): data to use for predictions. If None, it will be computed from the graph\n",
    "        k (int): number of times we execute the procedure. Default is 3.\n",
    "\n",
    "    Returns:\n",
    "        pos (dict): final positions of the nodes\n",
    "    \"\"\"\n",
    "    if data is None:\n",
    "        data = graph_to_df(graph,0,draw_f,bench='Test', include_labels=False)\n",
    "        X = preprocess_data(data,return_labels=False,drop_labels=False)\n",
    "    else:\n",
    "        X = preprocess_data(data,return_labels=False,drop_labels=True)\n",
    "\n",
    "    proba = make_predictions(model,X)\n",
    "\n",
    "    removed_edges = []\n",
    "    pos0 = draw_f(graph)\n",
    "    pos1 = pos0\n",
    "    for i in range(k):\n",
    "        print(f'Iteration {i+1}/{k}')\n",
    "        max_proba_idx = np.argmax(proba)\n",
    "        if proba[max_proba_idx] < T:\n",
    "            print('No more edges to remove')\n",
    "            break\n",
    "        max_proba_edge = list(graph.edges)[max_proba_idx]\n",
    "        removed_edges.append(max_proba_edge)\n",
    "\n",
    "        g2 = graph.copy()\n",
    "        # g2.remove_edges_from([max_proba_edge])\n",
    "        g2.remove_edges_from(removed_edges)\n",
    "\n",
    "        pos1 = draw_f(g2,pos=pos1)\n",
    "\n",
    "        data = graph_to_df(g2,0,draw_f,bench='Test',include_labels=False)\n",
    "        \n",
    "        if data is None:\n",
    "            proba[max_proba_idx] = -1\n",
    "            removed_edges.pop()\n",
    "            # To ensure that we don't remove the same edge twice\n",
    "            # And that we keep the edge that gave an error on removal\n",
    "            # Results are worse this way for now\n",
    "            continue\n",
    "\n",
    "        data = data.fillna(data.mean(numeric_only=True))\n",
    "\n",
    "        X = preprocess_data(data,return_labels=False,drop_labels=False)\n",
    "        proba = make_predictions(model,X)\n",
    "    \n",
    "    return pos1\n",
    "\n",
    "\n",
    "with open('../data/idToGraph.pickle', 'rb') as f:\n",
    "    graphid2src = pickle.load(f)"
   ]
  },
  {
   "cell_type": "code",
   "execution_count": 11,
   "metadata": {},
   "outputs": [],
   "source": [
    "from src.graph_utils import compareGraphs\n",
    "\n",
    "method2function = {\n",
    "    \"kk\": draw_kk,\n",
    "    \"fa2\": draw_fa2\n",
    "}\n",
    "\n",
    "def image_before_after_relaxation(graph_id: int, model_name: str = \"xgb\", draw_method: str = \"fa2\", relax_f = relax_and_recompute):\n",
    "    g = graphid2src[0]\n",
    "    model = XGBClassifier()\n",
    "    model.load_model(f'../data/{model_name}_{draw_method}.bin')\n",
    "    orig_pos = method2function[draw_method](g)\n",
    "    pos = relax_f(g, draw_f=method2function[draw_method], model=model)\n",
    "    compareGraphs(g, g, orig_pos, pos, titles=['before relaxation', 'after relaxation'])\n",
    "    \n",
    "def image_relaxation_types(graph_id: int, model_name: str = \"xgb\", draw_method: str = \"fa2\"):\n",
    "    g = graphid2src[graph_id]\n",
    "    model = XGBClassifier()\n",
    "    model.load_model(f'../data/{model_name}_{draw_method}.bin')\n",
    "    orig_pos = method2function[draw_method](g)\n",
    "    orig_crossings = num_crossings(g, orig_pos)\n",
    "    pos1 = relax_and_recompute(g, draw_f=method2function[draw_method], model=model)\n",
    "    pos1_crossings = num_crossings(g, pos1)\n",
    "    pos2 = relax_block(g, draw_f=method2function[draw_method], model=model)\n",
    "    pos2_crossings = num_crossings(g, pos1)\n",
    "    plt.subplot(131, aspect=1)\n",
    "    plt.title(f\"Original ({orig_crossings})\")\n",
    "    nx.draw(g, pos=orig_pos, node_size=10)\n",
    "    plt.subplot(132, aspect=1)\n",
    "    plt.title(f\"Relax and recompute ({pos1_crossings})\")\n",
    "    nx.draw(g, pos=pos1, node_size=10)\n",
    "    plt.subplot(133, aspect=1)\n",
    "    plt.title(f\"Relax and block ({pos2_crossings})\")\n",
    "    nx.draw(g, pos=pos2, node_size=10)"
   ]
  },
  {
   "cell_type": "code",
   "execution_count": 12,
   "metadata": {},
   "outputs": [
    {
     "name": "stdout",
     "output_type": "stream",
     "text": [
      "Iteration 1/3\n"
     ]
    },
    {
     "name": "stderr",
     "output_type": "stream",
     "text": [
      "/Users/raulhigueras/Desktop/Research/EdgeRelaxationGraphDrawing/src/graph_utils.py:793: RuntimeWarning: divide by zero encountered in log\n",
      "  return -np.sum([degree[node]/(2*nEdges)*np.log(degree[node]/(2*nEdges)) for node in G.nodes])/np.log(nNodes)\n",
      "/Users/raulhigueras/Desktop/Research/EdgeRelaxationGraphDrawing/src/graph_utils.py:793: RuntimeWarning: invalid value encountered in scalar multiply\n",
      "  return -np.sum([degree[node]/(2*nEdges)*np.log(degree[node]/(2*nEdges)) for node in G.nodes])/np.log(nNodes)\n"
     ]
    },
    {
     "name": "stdout",
     "output_type": "stream",
     "text": [
      "Iteration 2/3\n",
      "Iteration 3/3\n"
     ]
    },
    {
     "data": {
      "image/png": "[encoded data removed]",
      "text/plain": [
       "<Figure size 432x288 with 3 Axes>"
      ]
     },
     "metadata": {},
     "output_type": "display_data"
    }
   ],
   "source": [
    "image_relaxation_types(1)"
   ]
  },
  {
   "cell_type": "code",
   "execution_count": 5,
   "metadata": {},
   "outputs": [
    {
     "name": "stdout",
     "output_type": "stream",
     "text": [
      "\u001b[33mDEPRECATION: Configuring installation scheme with distutils config files is deprecated and will no longer work in the near future. If you are using a Homebrew or Linuxbrew Python, please see discussion at https://github.com/Homebrew/homebrew-core/issues/76621\u001b[0m\u001b[33m\n",
      "\u001b[0mRequirement already satisfied: scipy in /usr/local/lib/python3.9/site-packages (1.11.1)\n",
      "Requirement already satisfied: numpy<1.28.0,>=1.21.6 in /usr/local/lib/python3.9/site-packages (from scipy) (1.25.1)\n",
      "\u001b[33mDEPRECATION: Configuring installation scheme with distutils config files is deprecated and will no longer work in the near future. If you are using a Homebrew or Linuxbrew Python, please see discussion at https://github.com/Homebrew/homebrew-core/issues/76621\u001b[0m\u001b[33m\n",
      "\u001b[0m"
     ]
    }
   ],
   "source": [
    "!python3.9 -m pip install --upgrade scipy"
   ]
  }
 ],
 "metadata": {
  "kernelspec": {
   "display_name": "Python 3.9.7 64-bit",
   "language": "python",
   "name": "python3"
  },
  "language_info": {
   "codemirror_mode": {
    "name": "ipython",
    "version": 3
   },
   "file_extension": ".py",
   "mimetype": "text/x-python",
   "name": "python",
   "nbconvert_exporter": "python",
   "pygments_lexer": "ipython3",
   "version": "3.9.7"
  },
  "orig_nbformat": 4,
  "vscode": {
   "interpreter": {
    "hash": "397704579725e15f5c7cb49fe5f0341eb7531c82d19f2c29d197e8b64ab5776b"
   }
  }
 },
 "nbformat": 4,
 "nbformat_minor": 2
}
